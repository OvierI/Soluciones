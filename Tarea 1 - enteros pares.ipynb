{
 "cells": [
  {
   "cell_type": "code",
   "execution_count": 27,
   "id": "1ca4e6a8",
   "metadata": {},
   "outputs": [
    {
     "name": "stdout",
     "output_type": "stream",
     "text": [
      "Por favor ingrese el valor de n=6\n",
      "n par válido\n",
      "el m es 2.0\n",
      "l =  [-4 -5]\n",
      "k =  [0 0]\n",
      "El vectorlike es vp =  [-4  0  0  4  0  0]\n",
      "El vectorlike es vm =  [ 0  0 -4 -5  4  5]\n"
     ]
    }
   ],
   "source": [
    "#SELECCIONANDO LOS ENTEROS n y m\n",
    "import numpy as np \n",
    "import random as rd\n",
    "\n",
    "\n",
    "#Recibe la entrada del usuario y lo convierte en un entero útil\n",
    "n = int(input(\"Por favor ingrese el valor de n = \"))\n",
    "\n",
    "#si n está entre -30 y 30 y n es par, el programa sigue como se muestra\n",
    "if n % 2 == 0:\n",
    "    print(\"n par válido\")\n",
    "    m=(n/2-1)\n",
    "    print(\"el m es\", m)\n",
    "\n",
    "#GENERANDO LAS ENTRADAS DEL VECTOR k y l\n",
    "m=int(m)\n",
    "\n",
    "#Genera números enteros entre -5 y 5 y construya el vector L y K de tamaño m\n",
    "l = np.random.randint(-5, 5, size=m)\n",
    "k = np.random.randint(-5, 5, size=m)\n",
    "print(\"l = \",l)\n",
    "print(\"k = \",k)\n",
    "\n",
    "#Redefinimos l y k como un arreglo que vaya de 1 a m elementos. Igual para k2. Ambos de dimensión m.\n",
    "l2 = l[:m]\n",
    "k2 = k[:m]\n",
    "#print(\"l2 = \",l2)\n",
    "#print(\"k2 = \",k2)\n",
    "\n",
    "#Usamos l2 y k2 para generar un par de vectores de mayor dimensión m+1 y m+2 respectivamente \n",
    "#llamado vp (l(0), k(0), k(1),..., k(m-1); y vm desde (0,0,l(0), l(1), l(m-1)).\n",
    "\n",
    "vp = np.append([l[0]], k2)\n",
    "vm = np.append([0, 0], l2)\n",
    "\n",
    "#Redefinimos vp pero ahora de dimensión m+1 + 1 + m = 2m+2, y vm de dimensión m+2 + m = 2m+2. \n",
    "#Lo que se conoce como los vectorlikes\n",
    "vp = np.append(vp, -np.append([l[0]], k2))\n",
    "vm = np.append(vm, -np.array(l2))\n",
    "print(\"El vectorlike es vp = \",vp)\n",
    "print(\"El vectorlike es vm = \",vm)\n",
    "     "
   ]
  }
 ],
 "metadata": {
  "kernelspec": {
   "display_name": "Python 3 (ipykernel)",
   "language": "python",
   "name": "python3"
  },
  "language_info": {
   "codemirror_mode": {
    "name": "ipython",
    "version": 3
   },
   "file_extension": ".py",
   "mimetype": "text/x-python",
   "name": "python",
   "nbconvert_exporter": "python",
   "pygments_lexer": "ipython3",
   "version": "3.9.12"
  }
 },
 "nbformat": 4,
 "nbformat_minor": 5
}
